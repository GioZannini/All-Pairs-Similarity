{
 "cells": [
  {
   "cell_type": "markdown",
   "id": "de714cc6",
   "metadata": {},
   "source": [
    "# CLASSES"
   ]
  },
  {
   "cell_type": "code",
   "execution_count": 1,
   "id": "a0c7f47a",
   "metadata": {},
   "outputs": [],
   "source": [
    "# take 2 dictionary and control if they are equal\n",
    "def verify_equality_between_models(d1:dict, d2:dict, n_digit=10):\n",
    "    # control if the keys of dicitonaries are the same\n",
    "    print(f\"Key are equal: {sorted(list(d1.keys())) == sorted(list(d2.keys()))}\")\n",
    "    # count number of mistake\n",
    "    m_i = 0\n",
    "    # control if each value for each key is equal for both models\n",
    "    for k in d1.keys():\n",
    "        s1 = sorted(d1[k])\n",
    "        s2 = sorted(d2[k])\n",
    "        s1 = [(d, round(v, n_digit)) for (d, v) in s1]\n",
    "        s2 = [(d, round(v, n_digit)) for (d, v) in s2]\n",
    "        if s1 != s2:\n",
    "            # key with different elements in values\n",
    "            print(k)\n",
    "            m_i+=1\n",
    "    print(f\"Total mistake: {m_i}\")"
   ]
  },
  {
   "cell_type": "code",
   "execution_count": 2,
   "id": "c2907793",
   "metadata": {},
   "outputs": [],
   "source": [
    "import numpy as np\n",
    "\n",
    "\n",
    "class ReadData:\n",
    "    __FOLDER = \"C:/Users/zanna/PycharmProjects/Assignment 3  LMD/Datasets/{}\"\n",
    "\n",
    "    @staticmethod\n",
    "    def get(data_name):\n",
    "        # load data\n",
    "        docs = np.load(ReadData.__FOLDER.format(data_name + '.npy'), allow_pickle=True).item()\n",
    "        # extract dictionary with id_doc: only text of docs (without title and so on....)\n",
    "        return {k: d[\"text\"] for (k, d) in docs.items()}"
   ]
  },
  {
   "cell_type": "code",
   "execution_count": 3,
   "id": "0cf2e3bd",
   "metadata": {},
   "outputs": [],
   "source": [
    "from sklearn.feature_extraction.text import TfidfVectorizer\n",
    "import numpy as np\n",
    "from scipy.sparse import csr_matrix, dok_matrix, vstack\n",
    "from tqdm import tqdm\n",
    "\n",
    "class AllPairsSimilarityMaster:\n",
    "\n",
    "    def __init__(self, docs_list, threshold):\n",
    "        # set threshold\n",
    "        self.threshold = threshold\n",
    "        # number of docs\n",
    "        self.n_docs = None\n",
    "        # contain pair of (doc_id, tf_idf value)\n",
    "        self.tfidf_docs = None\n",
    "        # is a dictionary where {doc_key: list of id docs that have similarity over the threshold}\n",
    "        self.similarity_map = {}\n",
    "        # extract list of docs id\n",
    "        self.keys = list(docs_list.keys())\n",
    "        # calculate number of docs\n",
    "        self.n_docs = len(self.keys)\n",
    "        # extract doc's text\n",
    "        docs = docs_list.values()\n",
    "        # istance of TF-IDF\n",
    "        TFIDF_transformer = TfidfVectorizer(strip_accents='unicode')\n",
    "        # train algorithm\n",
    "        TFIDF_transformer.fit(docs)\n",
    "        # transform all docs in TF-IDF and create a csr matrix\n",
    "        self.tfidf_computation = TFIDF_transformer.transform(docs)\n",
    "\n",
    "    # measure similarity between pairs of documents\n",
    "    def measure_similarity(self):\n",
    "        pass\n",
    "\n",
    "    # return similarity dictionary\n",
    "    def get_similarity_map(self):\n",
    "        return self.similarity_map\n",
    "    \n",
    "        # determine number of pairs\n",
    "    def get_number_pairs(self):\n",
    "        tmp_l = list(self.get_similarity_map().items())\n",
    "        pairs = []\n",
    "        for (k, l) in tmp_l:\n",
    "            pairs += [(k, v[0]) if k<v[0] else (v[0], k) for v in l]\n",
    "        return len(set(pairs))"
   ]
  },
  {
   "cell_type": "code",
   "execution_count": 4,
   "id": "c66135a9",
   "metadata": {},
   "outputs": [],
   "source": [
    "class AllPairsSimilaritySeqVersion(AllPairsSimilarityMaster):\n",
    "\n",
    "    def __init__(self, docs_list, threshold):\n",
    "        super().__init__(docs_list, threshold)\n",
    "        # create a list of pairs (id, tf-idf vector)\n",
    "        self.tfidf_docs = [(ids, tfidf) for (ids, tfidf) in zip(self.keys, self.tfidf_computation)]\n",
    "        # sort list of tuple in descendent way considering the number of element not equal zero\n",
    "        # (optimization for reducing computational cost)\n",
    "        self.tfidf_docs = sorted(self.tfidf_docs, reverse=True, key=AllPairsSimilaritySeqVersion.__key_order)\n",
    "        # computation of minimum number of elements that must present in a vector to outdo threshold for doc i\n",
    "        self.min_number_to_outdo_threshold = [self.__find_min_dot_prod_value(i) for i in range(self.n_docs)]\n",
    "\n",
    "    # define order for sorting\n",
    "    @staticmethod\n",
    "    def __key_order(d):\n",
    "        # extract sparse vector tf-idf\n",
    "        sparse_vector_tfidf = d[1]\n",
    "        # count how many element are different from zero\n",
    "        # in vector\n",
    "        return (sparse_vector_tfidf.nonzero()[1]).shape[0]\n",
    "\n",
    "    # determine min number of values that are necessary to overtake the threshold\n",
    "    def __find_min_dot_prod_value(self, n):\n",
    "        # sort in decresing order by tf-idf value\n",
    "        sorted_v = np.sort(self.tfidf_docs[n][1].toarray().flat)[::-1]\n",
    "        # pre computation of dot product between it self\n",
    "        pre_dot_prod = 0\n",
    "        # find min number of element necessary to overtake threshold\n",
    "        for n_min_values in range(sorted_v.shape[0]):\n",
    "            # compute dot product of itself for each element in vector\n",
    "            pre_dot_prod += sorted_v[n_min_values] ** 2\n",
    "            if pre_dot_prod >= self.threshold:\n",
    "                break\n",
    "        return n_min_values + 1\n",
    "\n",
    "    # measure similarity between pairs of documents\n",
    "    def measure_similarity(self):\n",
    "        # compute similarity\n",
    "        # with this 2 for I only compute half of the similarity matrix\n",
    "        for first_n in tqdm(range(self.n_docs), ncols=47):\n",
    "            # determine how many values are necessary to overcome the threshold\n",
    "            n_min_values = self.min_number_to_outdo_threshold[first_n]\n",
    "            for second_n in range(first_n + 1, self.n_docs):\n",
    "                # condition that indicates that no one vector can overtake threshold\n",
    "                if (self.tfidf_docs[second_n][1].nonzero()[1]).shape[0] < n_min_values:\n",
    "                    break\n",
    "                # calculate similarity\n",
    "                cosine_sim = self.tfidf_docs[first_n][1].dot(self.tfidf_docs[second_n][1].transpose())\n",
    "                # extract similarity value\n",
    "                cosine_sim = cosine_sim.toarray().flat[0]\n",
    "                # if similarity is grater than threshold save pair\n",
    "                if cosine_sim > self.threshold:\n",
    "                    # populate list of first doc vector\n",
    "                    self.similarity_map[self.tfidf_docs[first_n][0]] = self.similarity_map.get(\n",
    "                        self.tfidf_docs[first_n][0], []) + [(self.tfidf_docs[second_n][0], cosine_sim)]\n",
    "                    # populate list of second doc vector\n",
    "                    self.similarity_map[self.tfidf_docs[second_n][0]] = self.similarity_map.get(\n",
    "                        self.tfidf_docs[second_n][0], []) + [(self.tfidf_docs[first_n][0], cosine_sim)]\n"
   ]
  },
  {
   "cell_type": "code",
   "execution_count": 5,
   "id": "f58c7c5b",
   "metadata": {},
   "outputs": [],
   "source": [
    "class AllPairsSimilaritySparkVersionBase(AllPairsSimilarityMaster):\n",
    "\n",
    "    def __init__(self, docs_list, threshold, spark_context, compute_tf_idf_docs=True):\n",
    "        super().__init__(docs_list, threshold)\n",
    "        # spark context\n",
    "        self.spark = spark_context\n",
    "        # decide if computing or not the tf_idf, is useful for subclass to avoid useless computation\n",
    "        if compute_tf_idf_docs:\n",
    "            # create a list of pairs (id, tf-idf vector)\n",
    "            self.tfidf_docs = [(ids, tfidf) for (ids, tfidf) in zip(self.keys, self.tfidf_computation)]\n",
    "\n",
    "    @staticmethod\n",
    "    # (doc_id, tf_idf vector) -> (term_id, (doc_id, tf_idf vector))\n",
    "    def _first_map_flat_func(x):\n",
    "        return [(term_id, (x[0], x[1])) for term_id in x[1].nonzero()[1]]\n",
    "    \n",
    "    @staticmethod\n",
    "    # compute the cosine similarity between docs\n",
    "    def _second_map_func(x, threshold):\n",
    "        # values of key\n",
    "        l_pairs = x[1]\n",
    "        # returned vector\n",
    "        cosine_vector = []\n",
    "        # num docs\n",
    "        num_docs = len(l_pairs)\n",
    "        for i_1 in range(num_docs):\n",
    "            for i_2 in range(i_1 + 1, num_docs):\n",
    "                # calculate similarity\n",
    "                cosine_sim = l_pairs[i_1][1].dot(l_pairs[i_2][1].transpose())\n",
    "                # extract similarity value\n",
    "                cosine_sim = cosine_sim.toarray().flat[0]\n",
    "                # if similarity is grater than threshold save pair\n",
    "                if cosine_sim > threshold:\n",
    "                    # thanks to the following operations I can create a for each doc_id \n",
    "                    # the docs id that outdoes threshold\n",
    "                    # populate list of first doc vector\n",
    "                    cosine_vector.append((l_pairs[i_1][0], l_pairs[i_2][0], cosine_sim))\n",
    "                    # populate list of second doc vector\n",
    "                    cosine_vector.append((l_pairs[i_2][0], l_pairs[i_1][0], cosine_sim))\n",
    "        return (x[0], cosine_vector)\n",
    "                \n",
    "    # measure similarity between pairs of documents\n",
    "    def measure_similarity(self):\n",
    "        threshold = self.threshold\n",
    "        # RDD composed by pairs of (doc_id, tf_idf vector)\n",
    "        rdd_tfidf = self.spark.parallelize(self.tfidf_docs)\n",
    "        # execute map flat function\n",
    "        mapped = rdd_tfidf.flatMap(AllPairsSimilaritySparkVersionBase._first_map_flat_func)\n",
    "        # execute group by key and I map values as list\n",
    "        group_by_key = mapped.groupByKey().mapValues(list)\n",
    "        # execute cosine similarity for each key (term_id) in independent way\n",
    "        cosines = group_by_key.map(lambda x: AllPairsSimilaritySparkVersionBase._second_map_func(x, threshold))\n",
    "        # extract only values for each key\n",
    "        cosines_values = cosines.values()\n",
    "        # flat vectors for removing duplicates\n",
    "        flat_cosines_values = cosines_values.flatMap(lambda x: x)\n",
    "        # remove duplicates\n",
    "        cosines_no_duplicates = flat_cosines_values.distinct()\n",
    "        # create new map (doc_id_1, (doc_id_2, cosine))\n",
    "        mapped_doc_keys = cosines_no_duplicates.map(lambda x: (x[0], (x[1], x[2])))\n",
    "        # execute group by key and map values as list\n",
    "        group_by_doc_key = mapped_doc_keys.groupByKey().mapValues(list)\n",
    "        # save the final dictionary\n",
    "        self.similarity_map = dict(group_by_doc_key.collect())"
   ]
  },
  {
   "cell_type": "code",
   "execution_count": 6,
   "id": "7ea680bd",
   "metadata": {},
   "outputs": [],
   "source": [
    "# FUNZIA\n",
    "class AllPairsSimilaritySparkVersion2(AllPairsSimilaritySparkVersionBase):\n",
    "    \n",
    "    def __init__(self, docs_list, threshold, spark_context):\n",
    "        super().__init__(docs_list, threshold, spark_context, compute_tf_idf_docs=False)\n",
    "        # compute tfidf mean for each term along all docs and flat matrix\n",
    "        tf_idf_mean_terms = self.tfidf_computation.mean(axis=0).A1\n",
    "        # sort in decreasing order\n",
    "        index_decresing_sort = np.argsort(tf_idf_mean_terms)[::-1]\n",
    "        # order matrix by mean frequency\n",
    "        self.ordered_tfidf_computation = self.tfidf_computation[::, index_decresing_sort]\n",
    "        # vector d* (vector containing max value for each term)\n",
    "        d_star = self.ordered_tfidf_computation.max(axis=0).tocsr(copy=False)\n",
    "        # number of terms\n",
    "        n_terms = self.ordered_tfidf_computation.shape[1]\n",
    "        # list containing boundaries for each doc\n",
    "        boundary_docs = AllPairsSimilaritySparkVersion2.__find_boundaries(self.ordered_tfidf_computation, d_star, self.n_docs, n_terms, self.threshold)\n",
    "        # create a list of pairs (id, tf-idf vector, boundary)\n",
    "        self.tfidf_docs = [(ids, tfidf, b) for (ids, tfidf, b) in zip(self.keys, self.ordered_tfidf_computation, boundary_docs)]\n",
    "        \n",
    "    @staticmethod\n",
    "    # find min value of terms necessary to outdo the threshold\n",
    "    def __find_boundaries(ordered_tfidf, d_star, n_docs, n_terms, threshold):\n",
    "        boundary_docs = []\n",
    "        for d in range(n_docs):\n",
    "            for t in range(n_terms):\n",
    "                # calculate partial cosiee\n",
    "                partial_cosine = ordered_tfidf[d, 0:t+1].dot(d_star[0, 0:t+1].transpose())[0, 0]\n",
    "                if partial_cosine >= threshold:\n",
    "                    # this indicates the start to find a term different from zero to outdo threshold\n",
    "                    boundary_docs.append(t)\n",
    "                    # change doc\n",
    "                    break\n",
    "        return boundary_docs\n",
    "    \n",
    "    @staticmethod\n",
    "    # (doc_id, tf_idf vector, boundary) -> (term_id, (doc_id, tf_idf vector))\n",
    "    def _first_map_flat_func(x):\n",
    "        vector = []\n",
    "        # number of terms\n",
    "        dim_terms = x[1].shape[1]\n",
    "        # populate vector\n",
    "        for term_id in range(x[2], dim_terms):\n",
    "            if x[1][0, term_id] != 0:\n",
    "                vector.append((term_id, (x[0], x[1])))\n",
    "        return vector"
   ]
  },
  {
   "cell_type": "code",
   "execution_count": 9,
   "id": "14f719c3",
   "metadata": {},
   "outputs": [],
   "source": [
    "#SECONDA VERSIONE\n",
    "class AllPairsSimilaritySparkVersion2(AllPairsSimilaritySparkVersionBase):\n",
    "    \n",
    "    def __init__(self, docs_list, threshold, spark_context):\n",
    "        super().__init__(docs_list, threshold, spark_context, compute_tf_idf_docs=False)\n",
    "        # compute tfidf mean for each term along all docs and flat matrix\n",
    "        tf_idf_mean_terms = self.tfidf_computation.mean(axis=0).A1\n",
    "        # sort in decreasing order\n",
    "        index_decresing_sort = np.argsort(tf_idf_mean_terms)[::-1]\n",
    "        # order matrix by mean frequency\n",
    "        self.ordered_tfidf_computation = self.tfidf_computation[::, index_decresing_sort]\n",
    "        # adjust indices due to previous sorting\n",
    "        self.__adjust_indices()\n",
    "        # vector d* (vector containing max value for each term)\n",
    "        d_star = self.ordered_tfidf_computation.max(axis=0).tocsr(copy=False)\n",
    "        # number of terms\n",
    "        n_terms = self.ordered_tfidf_computation.shape[1]\n",
    "        # list containing boundaries for each doc\n",
    "        boundary_docs = AllPairsSimilaritySparkVersion2.__find_boundaries(self.ordered_tfidf_computation, d_star, self.n_docs, n_terms, self.threshold)\n",
    "        # create a list of pairs (id, tf-idf vector, boundary)\n",
    "        self.tfidf_docs = [(ids, tfidf, b) for (ids, tfidf, b) in zip(self.keys, self.ordered_tfidf_computation, boundary_docs)]\n",
    "        \n",
    "    # adjust indices after sorted by frequency   \n",
    "    def __adjust_indices(self):\n",
    "        # empty csr\n",
    "        final_csr = dok_matrix((0, self.ordered_tfidf_computation[0,::].shape[1]))\n",
    "        # correct indices in csr\n",
    "        for i in range(self.n_docs):\n",
    "            # transform csr to array to csr (need to adjust indices)\n",
    "            adjust_csr = csr_matrix(self.ordered_tfidf_computation[i, ::].toarray())\n",
    "            # append a new row in matrix\n",
    "            final_csr = vstack((final_csr, adjust_csr))\n",
    "        # transform from coo in csr\n",
    "        self.ordered_tfidf_computation = final_csr.tocsr(copy=False)\n",
    "        \n",
    "    @staticmethod\n",
    "    # find min value of terms necessary to outdo the threshold\n",
    "    def __find_boundaries(ordered_tfidf, d_star, n_docs, n_terms, threshold):\n",
    "        boundary_docs = []\n",
    "        for d in range(n_docs):\n",
    "            # watch only indices with values different from zero\n",
    "            for t in ordered_tfidf[d, ::].indices:\n",
    "                # calculate partial cosiee\n",
    "                partial_cosine = ordered_tfidf[d, 0:t+1].dot(d_star[0, 0:t+1].transpose())[0, 0]\n",
    "                if partial_cosine >= threshold:\n",
    "                    # this indicates the start to find a term different from zero to outdo threshold\n",
    "                    boundary_docs.append(t)\n",
    "                    # change doc\n",
    "                    break\n",
    "        return boundary_docs\n",
    "    \n",
    "    @staticmethod\n",
    "    # find pos of val in vector\n",
    "    def __binary_search(vector, f, t, val):\n",
    "        # nearest value\n",
    "        if f == t:\n",
    "            return f+1 if vector[f] < val else f\n",
    "        mid = (t+f)//2\n",
    "        if vector[mid] < val:\n",
    "            return AllPairsSimilaritySparkVersion2.__binary_search(vector, mid+1, t, val)\n",
    "        elif vector[mid] > val:\n",
    "            return AllPairsSimilaritySparkVersion2.__binary_search(vector, f, mid-1, val)\n",
    "        else:\n",
    "            return mid+1 if vector[mid] < val else mid\n",
    "\n",
    "    @staticmethod\n",
    "    # (doc_id, tf_idf vector, boundary) -> (term_id, (doc_id, tf_idf vector))\n",
    "    def _first_map_flat_func(x):\n",
    "        vector = []\n",
    "        # list of terms not equal zero\n",
    "        terms_list = x[1].indices\n",
    "        # find initial point in terms_list to watch\n",
    "        start_point = AllPairsSimilaritySparkVersion2.__binary_search(terms_list, 0, terms_list.shape[0]-1, x[2])\n",
    "        # populate vector\n",
    "        for pos in range(start_point, terms_list.shape[0]):\n",
    "            vector.append((terms_list[pos], (x[0], x[1])))\n",
    "        return vector"
   ]
  },
  {
   "cell_type": "code",
   "execution_count": 94,
   "id": "9ae84268",
   "metadata": {},
   "outputs": [],
   "source": [
    "class AllPairsSimilaritySparkVersion3(AllPairsSimilaritySparkVersion2):\n",
    "    def __init__(self, docs_list, threshold, spark_context):\n",
    "        super().__init__(docs_list, threshold, spark_context)\n",
    "\n",
    "    @staticmethod\n",
    "    # control if this term is the last contained inside tdf_idf of d1 and d2\n",
    "    def __term_is_max(t, tfidf_d1, tfidf_d2):\n",
    "        return tfidf_d1[0, ::].indices.max() == t and tfidf_d2[0, ::].indices.max() == t\n",
    "\n",
    "    @staticmethod\n",
    "    # compute the cosine similarity between docs\n",
    "    def _second_map_func(x, threshold):\n",
    "        l_pairs = x[1]\n",
    "        cosine_vector = []\n",
    "        num_docs = len(l_pairs)\n",
    "        for i_1 in range(num_docs):\n",
    "            for i_2 in range(i_1 + 1, num_docs):\n",
    "                if AllPairsSimilaritySparkVersion3.__term_is_max(x[0], l_pairs[i_1][1], l_pairs[i_2][1]):\n",
    "                    # calculate similarity\n",
    "                    cosine_sim = l_pairs[i_1][1].dot(l_pairs[i_2][1].transpose())\n",
    "                    # extract similarity value\n",
    "                    cosine_sim = cosine_sim.toarray().flat[0]\n",
    "                    # if similarity is grater than threshold save pair\n",
    "                    if cosine_sim > threshold:\n",
    "                        # thanks to the following operations I can create a for each doc_id \n",
    "                        # the docs id that outdoes threshold\n",
    "                        # populate list of first doc vector\n",
    "                        cosine_vector.append((l_pairs[i_1][0], l_pairs[i_2][0], cosine_sim))\n",
    "                        # populate list of second doc vector\n",
    "                        cosine_vector.append((l_pairs[i_2][0], l_pairs[i_1][0], cosine_sim))\n",
    "        return (x[0], cosine_vector)"
   ]
  },
  {
   "cell_type": "markdown",
   "id": "2406aaab",
   "metadata": {},
   "source": [
    "## READ DATA"
   ]
  },
  {
   "cell_type": "code",
   "execution_count": 5,
   "id": "a949ec6f",
   "metadata": {},
   "outputs": [],
   "source": [
    "# extract docs from dataset\n",
    "docs = ReadData.get('corpus_scifact')\n",
    "toy_docs = dict(list(docs.items())[:50])"
   ]
  },
  {
   "cell_type": "markdown",
   "id": "c6c37fb3",
   "metadata": {},
   "source": [
    "## RUN SEQUENTIAL ALGORITHM"
   ]
  },
  {
   "cell_type": "code",
   "execution_count": 6,
   "id": "f1718c9c",
   "metadata": {},
   "outputs": [
    {
     "name": "stderr",
     "output_type": "stream",
     "text": [
      "100%|██████████| 50/50 [00:00<00:00, 72.69it/s]\n"
     ]
    }
   ],
   "source": [
    "similarity_pair_seq = AllPairsSimilaritySeqVersion(toy_docs, 0.15)\n",
    "similarity_pair_seq.measure_similarity()"
   ]
  },
  {
   "cell_type": "code",
   "execution_count": 7,
   "id": "94354d43",
   "metadata": {},
   "outputs": [
    {
     "data": {
      "text/plain": [
       "39"
      ]
     },
     "execution_count": 7,
     "metadata": {},
     "output_type": "execute_result"
    }
   ],
   "source": [
    "similarity_pair_seq.get_number_pairs()"
   ]
  },
  {
   "cell_type": "code",
   "execution_count": 77,
   "id": "035841c5",
   "metadata": {
    "scrolled": true
   },
   "outputs": [
    {
     "data": {
      "text/plain": [
       "{'159469': [('70115', 0.15156955084744542)],\n",
       " '70115': [('159469', 0.15156955084744542),\n",
       "  ('152245', 0.1649078306048879),\n",
       "  ('54440', 0.20368075274043673),\n",
       "  ('97884', 0.18071215646446034),\n",
       "  ('236204', 0.16444437595807393),\n",
       "  ('103007', 0.15280919245841593)],\n",
       " '152245': [('54440', 0.15085087369416136),\n",
       "  ('236204', 0.1576662509161589),\n",
       "  ('70115', 0.1649078306048879),\n",
       "  ('293661', 0.15397538589377446)],\n",
       " '54440': [('152245', 0.15085087369416136),\n",
       "  ('253672', 0.15509394136401228),\n",
       "  ('236204', 0.17953733699712568),\n",
       "  ('70115', 0.20368075274043673)],\n",
       " '236204': [('152245', 0.1576662509161589),\n",
       "  ('54440', 0.17953733699712568),\n",
       "  ('143251', 0.1538813579074872),\n",
       "  ('97884', 0.1697628310906025),\n",
       "  ('19238', 0.18481970162326697),\n",
       "  ('72159', 0.16962964712036308),\n",
       "  ('70115', 0.16444437595807393),\n",
       "  ('123859', 0.15825126568124032),\n",
       "  ('7912', 0.1910752299774629),\n",
       "  ('279052', 0.2163670011545827)],\n",
       " '293661': [('152245', 0.15397538589377446)],\n",
       " '188911': [('5836', 0.15309493178251343),\n",
       "  ('266641', 0.15934402512329895),\n",
       "  ('164985', 0.1547685118768981)],\n",
       " '5836': [('188911', 0.15309493178251343)],\n",
       " '266641': [('188911', 0.15934402512329895)],\n",
       " '164985': [('188911', 0.1547685118768981), ('219475', 0.15990544830534498)],\n",
       " '18670': [('279052', 0.1543503825550648)],\n",
       " '279052': [('18670', 0.1543503825550648),\n",
       "  ('236204', 0.2163670011545827),\n",
       "  ('36474', 0.2087707577734651)],\n",
       " '79447': [('195352', 0.1566362133332444)],\n",
       " '195352': [('79447', 0.1566362133332444), ('120626', 0.4826498281572208)],\n",
       " '253672': [('54440', 0.15509394136401228), ('285794', 0.15416625961580835)],\n",
       " '285794': [('253672', 0.15416625961580835),\n",
       "  ('263364', 0.16889205937435886),\n",
       "  ('92308', 0.19733285226955796)],\n",
       " '207972': [('143251', 0.1594207729278237)],\n",
       " '143251': [('207972', 0.1594207729278237),\n",
       "  ('236204', 0.1538813579074872),\n",
       "  ('213017', 0.512727843643393)],\n",
       " '202259': [('263364', 0.15661323474999916)],\n",
       " '263364': [('202259', 0.15661323474999916),\n",
       "  ('97884', 0.1759530398993096),\n",
       "  ('92308', 0.18487010906994064),\n",
       "  ('285794', 0.16889205937435886)],\n",
       " '243694': [('106301', 0.16580764276601714), ('92499', 0.301375673453519)],\n",
       " '106301': [('243694', 0.16580764276601714)],\n",
       " '92499': [('243694', 0.301375673453519)],\n",
       " '213017': [('143251', 0.512727843643393)],\n",
       " '97884': [('263364', 0.1759530398993096),\n",
       "  ('236204', 0.1697628310906025),\n",
       "  ('70115', 0.18071215646446034),\n",
       "  ('123859', 0.15779396212498972),\n",
       "  ('120626', 0.16687790248702444)],\n",
       " '92308': [('263364', 0.18487010906994064), ('285794', 0.19733285226955796)],\n",
       " '123859': [('97884', 0.15779396212498972), ('236204', 0.15825126568124032)],\n",
       " '120626': [('97884', 0.16687790248702444), ('195352', 0.4826498281572208)],\n",
       " '19238': [('236204', 0.18481970162326697), ('7912', 0.19188221057375543)],\n",
       " '72159': [('236204', 0.16962964712036308)],\n",
       " '7912': [('236204', 0.1910752299774629), ('19238', 0.19188221057375543)],\n",
       " '103007': [('70115', 0.15280919245841593)],\n",
       " '219475': [('164985', 0.15990544830534498)],\n",
       " '36474': [('279052', 0.2087707577734651)]}"
      ]
     },
     "execution_count": 77,
     "metadata": {},
     "output_type": "execute_result"
    }
   ],
   "source": [
    "similarity_pair_seq.similarity_map"
   ]
  },
  {
   "cell_type": "markdown",
   "id": "8574c334",
   "metadata": {},
   "source": [
    "## RUN SPARK ALGORITHM BASE"
   ]
  },
  {
   "cell_type": "code",
   "execution_count": 9,
   "id": "d1b8dd09",
   "metadata": {},
   "outputs": [],
   "source": [
    "import findspark\n",
    "findspark.init()\n",
    "from pyspark.sql import SparkSession\n",
    "# ------------------------------------\n",
    "# user interface http://localhost:1111\n",
    "# ------------------------------------\n",
    "# #                             local cluster using all core| name of application|   name of the host                           |  specific port\n",
    "spark = SparkSession.builder.master(\"local[*]\").appName(\"Assignment 3\").config(\"spark.driver.bindAddress\", \"localhost\").config(\"spark.ui.port\", \"1111\").\\\n",
    "getOrCreate()# get or instantiate a SparkContext and register it as a singleton object\n",
    "\n",
    "# PySpark functionality that is used to communicate with the cluster and to create an RDD, accumulator, and broadcast variables\n",
    "sc = spark.sparkContext"
   ]
  },
  {
   "cell_type": "code",
   "execution_count": 176,
   "id": "5ccfb518",
   "metadata": {},
   "outputs": [],
   "source": [
    "similarity_pair_spark_base = AllPairsSimilaritySparkVersionBase(toy_docs, .15, sc)"
   ]
  },
  {
   "cell_type": "code",
   "execution_count": null,
   "id": "3ac91355",
   "metadata": {},
   "outputs": [],
   "source": [
    "similarity_pair_spark_base.measure_similarity()"
   ]
  },
  {
   "cell_type": "code",
   "execution_count": 104,
   "id": "0ba2e9f0",
   "metadata": {
    "scrolled": true
   },
   "outputs": [
    {
     "data": {
      "text/plain": [
       "{'5836': [('188911', 0.15309493178251343)],\n",
       " '188911': [('5836', 0.15309493178251343),\n",
       "  ('164985', 0.1547685118768981),\n",
       "  ('266641', 0.15934402512329895)],\n",
       " '18670': [('279052', 0.1543503825550648)],\n",
       " '279052': [('18670', 0.1543503825550648),\n",
       "  ('236204', 0.2163670011545827),\n",
       "  ('36474', 0.2087707577734651)],\n",
       " '54440': [('70115', 0.20368075274043673),\n",
       "  ('152245', 0.15085087369416136),\n",
       "  ('236204', 0.17953733699712568),\n",
       "  ('253672', 0.15509394136401228)],\n",
       " '70115': [('54440', 0.20368075274043673),\n",
       "  ('97884', 0.18071215646446034),\n",
       "  ('152245', 0.1649078306048879),\n",
       "  ('159469', 0.15156955084744542),\n",
       "  ('236204', 0.16444437595807393),\n",
       "  ('103007', 0.15280919245841593)],\n",
       " '152245': [('54440', 0.15085087369416136),\n",
       "  ('70115', 0.1649078306048879),\n",
       "  ('236204', 0.1576662509161589),\n",
       "  ('293661', 0.15397538589377446)],\n",
       " '236204': [('54440', 0.17953733699712568),\n",
       "  ('70115', 0.16444437595807393),\n",
       "  ('72159', 0.16962964712036308),\n",
       "  ('97884', 0.1697628310906025),\n",
       "  ('143251', 0.1538813579074872),\n",
       "  ('152245', 0.1576662509161589),\n",
       "  ('279052', 0.2163670011545827),\n",
       "  ('7912', 0.1910752299774629),\n",
       "  ('19238', 0.18481970162326697),\n",
       "  ('123859', 0.15825126568124032)],\n",
       " '253672': [('54440', 0.15509394136401228), ('285794', 0.15416625961580835)],\n",
       " '97884': [('70115', 0.18071215646446034),\n",
       "  ('120626', 0.16687790248702444),\n",
       "  ('236204', 0.1697628310906025),\n",
       "  ('263364', 0.1759530398993096),\n",
       "  ('123859', 0.15779396212498972)],\n",
       " '159469': [('70115', 0.15156955084744542)],\n",
       " '72159': [('236204', 0.16962964712036308)],\n",
       " '92308': [('263364', 0.18487010906994064), ('285794', 0.19733285226955796)],\n",
       " '263364': [('92308', 0.18487010906994064),\n",
       "  ('97884', 0.1759530398993096),\n",
       "  ('202259', 0.15661323474999916),\n",
       "  ('285794', 0.16889205937435886)],\n",
       " '120626': [('97884', 0.16687790248702444), ('195352', 0.4826498281572208)],\n",
       " '143251': [('207972', 0.1594207729278237),\n",
       "  ('213017', 0.512727843643393),\n",
       "  ('236204', 0.1538813579074872)],\n",
       " '207972': [('143251', 0.1594207729278237)],\n",
       " '213017': [('143251', 0.512727843643393)],\n",
       " '164985': [('188911', 0.1547685118768981), ('219475', 0.15990544830534498)],\n",
       " '219475': [('164985', 0.15990544830534498)],\n",
       " '266641': [('188911', 0.15934402512329895)],\n",
       " '202259': [('263364', 0.15661323474999916)],\n",
       " '285794': [('92308', 0.19733285226955796),\n",
       "  ('253672', 0.15416625961580835),\n",
       "  ('263364', 0.16889205937435886)],\n",
       " '7912': [('19238', 0.19188221057375543), ('236204', 0.1910752299774629)],\n",
       " '19238': [('7912', 0.19188221057375543), ('236204', 0.18481970162326697)],\n",
       " '36474': [('279052', 0.2087707577734651)],\n",
       " '103007': [('70115', 0.15280919245841593)],\n",
       " '79447': [('195352', 0.1566362133332444)],\n",
       " '195352': [('79447', 0.1566362133332444), ('120626', 0.4826498281572208)],\n",
       " '92499': [('243694', 0.301375673453519)],\n",
       " '243694': [('92499', 0.301375673453519), ('106301', 0.16580764276601714)],\n",
       " '123859': [('97884', 0.15779396212498972), ('236204', 0.15825126568124032)],\n",
       " '106301': [('243694', 0.16580764276601714)],\n",
       " '293661': [('152245', 0.15397538589377446)]}"
      ]
     },
     "execution_count": 104,
     "metadata": {},
     "output_type": "execute_result"
    }
   ],
   "source": [
    "similarity_pair_spark_base.similarity_map"
   ]
  },
  {
   "cell_type": "code",
   "execution_count": 8,
   "id": "88ef24b8",
   "metadata": {},
   "outputs": [],
   "source": [
    "# stop all\n",
    "sc.stop()"
   ]
  },
  {
   "cell_type": "markdown",
   "id": "eb68c389",
   "metadata": {},
   "source": [
    "## RUN SPARK ALGORITHM VERSION 2"
   ]
  },
  {
   "cell_type": "code",
   "execution_count": 13,
   "id": "6dbfe013",
   "metadata": {},
   "outputs": [],
   "source": [
    "import findspark\n",
    "findspark.init()\n",
    "from pyspark.sql import SparkSession\n",
    "# ------------------------------------\n",
    "# user interface http://localhost:1111\n",
    "# ------------------------------------\n",
    "# #                             local cluster using all core| name of application|   name of the host                           |  specific port\n",
    "spark = SparkSession.builder.master(\"local[*]\").appName(\"Assignment 3\").config(\"spark.driver.bindAddress\", \"localhost\").config(\"spark.ui.port\", \"1111\").\\\n",
    "getOrCreate()# get or instantiate a SparkContext and register it as a singleton object\n",
    "\n",
    "# PySpark functionality that is used to communicate with the cluster and to create an RDD, accumulator, and broadcast variables\n",
    "sc = spark.sparkContext"
   ]
  },
  {
   "cell_type": "code",
   "execution_count": 14,
   "id": "d7f66bce",
   "metadata": {
    "scrolled": true
   },
   "outputs": [],
   "source": [
    "similarity_pair_spark_2 = AllPairsSimilaritySparkVersion2(toy_docs, .15, sc)"
   ]
  },
  {
   "cell_type": "code",
   "execution_count": 15,
   "id": "8078877f",
   "metadata": {},
   "outputs": [],
   "source": [
    "similarity_pair_spark_2.measure_similarity()"
   ]
  },
  {
   "cell_type": "code",
   "execution_count": 85,
   "id": "dd5cb2a1",
   "metadata": {
    "scrolled": true
   },
   "outputs": [
    {
     "data": {
      "text/plain": [
       "{'7912': [('19238', 0.19188221057375543), ('236204', 0.19107522997746287)],\n",
       " '152245': [('54440', 0.15085087369416136),\n",
       "  ('236204', 0.15766625091615893),\n",
       "  ('70115', 0.16490783060488787),\n",
       "  ('293661', 0.15397538589377446)],\n",
       " '243694': [('106301', 0.16580764276601717), ('92499', 0.30137567345351907)],\n",
       " '236204': [('7912', 0.19107522997746287),\n",
       "  ('152245', 0.15766625091615893),\n",
       "  ('54440', 0.17953733699712565),\n",
       "  ('123859', 0.15825126568124032),\n",
       "  ('19238', 0.18481970162326694),\n",
       "  ('72159', 0.16962964712036305),\n",
       "  ('279052', 0.2163670011545828),\n",
       "  ('97884', 0.1697628310906025),\n",
       "  ('70115', 0.16444437595807393),\n",
       "  ('143251', 0.1538813579074872)],\n",
       " '54440': [('152245', 0.15085087369416136),\n",
       "  ('236204', 0.17953733699712565),\n",
       "  ('70115', 0.20368075274043676),\n",
       "  ('253672', 0.15509394136401233)],\n",
       " '106301': [('243694', 0.16580764276601717)],\n",
       " '123859': [('236204', 0.15825126568124032), ('97884', 0.15779396212498972)],\n",
       " '285794': [('92308', 0.19733285226955793),\n",
       "  ('263364', 0.1688920593743589),\n",
       "  ('253672', 0.15416625961580835)],\n",
       " '19238': [('7912', 0.19188221057375543), ('236204', 0.18481970162326694)],\n",
       " '72159': [('236204', 0.16962964712036305)],\n",
       " '159469': [('70115', 0.15156955084744547)],\n",
       " '207972': [('143251', 0.15942077292782364)],\n",
       " '164985': [('219475', 0.15990544830534503), ('188911', 0.1547685118768981)],\n",
       " '279052': [('36474', 0.20877075777346507),\n",
       "  ('18670', 0.1543503825550648),\n",
       "  ('236204', 0.2163670011545828)],\n",
       " '263364': [('97884', 0.17595303989930963),\n",
       "  ('92308', 0.1848701090699407),\n",
       "  ('202259', 0.15661323474999916),\n",
       "  ('285794', 0.1688920593743589)],\n",
       " '92308': [('263364', 0.1848701090699407), ('285794', 0.19733285226955793)],\n",
       " '202259': [('263364', 0.15661323474999916)],\n",
       " '92499': [('243694', 0.30137567345351907)],\n",
       " '18670': [('279052', 0.1543503825550648)],\n",
       " '97884': [('263364', 0.17595303989930963),\n",
       "  ('70115', 0.18071215646446037),\n",
       "  ('120626', 0.16687790248702447),\n",
       "  ('123859', 0.15779396212498972),\n",
       "  ('236204', 0.1697628310906025)],\n",
       " '79447': [('195352', 0.15663621333324443)],\n",
       " '195352': [('79447', 0.15663621333324443), ('120626', 0.48264982815722063)],\n",
       " '188911': [('5836', 0.1530949317825135),\n",
       "  ('266641', 0.15934402512329887),\n",
       "  ('164985', 0.1547685118768981)],\n",
       " '213017': [('143251', 0.5127278436433929)],\n",
       " '70115': [('54440', 0.20368075274043676),\n",
       "  ('236204', 0.16444437595807393),\n",
       "  ('152245', 0.16490783060488787),\n",
       "  ('159469', 0.15156955084744547),\n",
       "  ('97884', 0.18071215646446037),\n",
       "  ('103007', 0.15280919245841593)],\n",
       " '143251': [('236204', 0.1538813579074872),\n",
       "  ('207972', 0.15942077292782364),\n",
       "  ('213017', 0.5127278436433929)],\n",
       " '293661': [('152245', 0.15397538589377446)],\n",
       " '219475': [('164985', 0.15990544830534503)],\n",
       " '5836': [('188911', 0.1530949317825135)],\n",
       " '266641': [('188911', 0.15934402512329887)],\n",
       " '103007': [('70115', 0.15280919245841593)],\n",
       " '36474': [('279052', 0.20877075777346507)],\n",
       " '120626': [('97884', 0.16687790248702447), ('195352', 0.48264982815722063)],\n",
       " '253672': [('285794', 0.15416625961580835), ('54440', 0.15509394136401233)]}"
      ]
     },
     "execution_count": 85,
     "metadata": {},
     "output_type": "execute_result"
    }
   ],
   "source": [
    "similarity_pair_spark_2.similarity_map"
   ]
  },
  {
   "cell_type": "code",
   "execution_count": 16,
   "id": "2fa6b6af",
   "metadata": {},
   "outputs": [
    {
     "name": "stdout",
     "output_type": "stream",
     "text": [
      "Key are equal: True\n",
      "Total mistake: 0\n"
     ]
    }
   ],
   "source": [
    "verify_equality_between_models(similarity_pair_seq.similarity_map, similarity_pair_spark_2.similarity_map)"
   ]
  },
  {
   "cell_type": "code",
   "execution_count": 166,
   "id": "636775ae",
   "metadata": {},
   "outputs": [],
   "source": [
    "sc.stop()"
   ]
  },
  {
   "cell_type": "markdown",
   "id": "7168ba7a",
   "metadata": {},
   "source": [
    "## RUN SPARK ALGORITHM VERSION 3"
   ]
  },
  {
   "cell_type": "code",
   "execution_count": null,
   "id": "3065aab2",
   "metadata": {},
   "outputs": [],
   "source": [
    "import findspark\n",
    "findspark.init()\n",
    "import pyspark\n",
    "\n",
    "sc = pyspark.SparkContext(appName=\"Hei\")"
   ]
  },
  {
   "cell_type": "code",
   "execution_count": 95,
   "id": "d131498c",
   "metadata": {
    "scrolled": true
   },
   "outputs": [],
   "source": [
    "similarity_pair_spark_3 = AllPairsSimilaritySparkVersion3(toy_docs, .15, sc)"
   ]
  },
  {
   "cell_type": "code",
   "execution_count": 96,
   "id": "cab49ea0",
   "metadata": {},
   "outputs": [],
   "source": [
    "similarity_pair_spark_3.measure_similarity()"
   ]
  },
  {
   "cell_type": "code",
   "execution_count": 97,
   "id": "5f08f934",
   "metadata": {
    "scrolled": false
   },
   "outputs": [
    {
     "data": {
      "text/plain": [
       "{'7912': [('19238', 0.19188221057375543), ('236204', 0.19107522997746287)],\n",
       " '152245': [('54440', 0.15085087369416136),\n",
       "  ('236204', 0.15766625091615893),\n",
       "  ('70115', 0.16490783060488787),\n",
       "  ('293661', 0.15397538589377446)],\n",
       " '243694': [('106301', 0.16580764276601717), ('92499', 0.30137567345351907)],\n",
       " '236204': [('7912', 0.19107522997746287),\n",
       "  ('152245', 0.15766625091615893),\n",
       "  ('54440', 0.17953733699712565),\n",
       "  ('123859', 0.15825126568124032),\n",
       "  ('19238', 0.18481970162326694),\n",
       "  ('72159', 0.16962964712036305),\n",
       "  ('279052', 0.2163670011545828),\n",
       "  ('97884', 0.1697628310906025),\n",
       "  ('70115', 0.16444437595807393),\n",
       "  ('143251', 0.1538813579074872)],\n",
       " '54440': [('152245', 0.15085087369416136),\n",
       "  ('236204', 0.17953733699712565),\n",
       "  ('70115', 0.20368075274043676),\n",
       "  ('253672', 0.15509394136401233)],\n",
       " '106301': [('243694', 0.16580764276601717)],\n",
       " '123859': [('236204', 0.15825126568124032), ('97884', 0.15779396212498972)],\n",
       " '285794': [('92308', 0.19733285226955793),\n",
       "  ('263364', 0.1688920593743589),\n",
       "  ('253672', 0.15416625961580835)],\n",
       " '19238': [('7912', 0.19188221057375543), ('236204', 0.18481970162326694)],\n",
       " '72159': [('236204', 0.16962964712036305)],\n",
       " '159469': [('70115', 0.15156955084744547)],\n",
       " '207972': [('143251', 0.15942077292782364)],\n",
       " '164985': [('219475', 0.15990544830534503), ('188911', 0.1547685118768981)],\n",
       " '279052': [('36474', 0.20877075777346507),\n",
       "  ('18670', 0.1543503825550648),\n",
       "  ('236204', 0.2163670011545828)],\n",
       " '263364': [('97884', 0.17595303989930963),\n",
       "  ('92308', 0.1848701090699407),\n",
       "  ('202259', 0.15661323474999916),\n",
       "  ('285794', 0.1688920593743589)],\n",
       " '92308': [('263364', 0.1848701090699407), ('285794', 0.19733285226955793)],\n",
       " '202259': [('263364', 0.15661323474999916)],\n",
       " '92499': [('243694', 0.30137567345351907)],\n",
       " '18670': [('279052', 0.1543503825550648)],\n",
       " '97884': [('263364', 0.17595303989930963),\n",
       "  ('70115', 0.18071215646446037),\n",
       "  ('120626', 0.16687790248702447),\n",
       "  ('123859', 0.15779396212498972),\n",
       "  ('236204', 0.1697628310906025)],\n",
       " '79447': [('195352', 0.15663621333324443)],\n",
       " '195352': [('79447', 0.15663621333324443), ('120626', 0.48264982815722063)],\n",
       " '188911': [('5836', 0.1530949317825135),\n",
       "  ('266641', 0.15934402512329887),\n",
       "  ('164985', 0.1547685118768981)],\n",
       " '213017': [('143251', 0.5127278436433929)],\n",
       " '70115': [('54440', 0.20368075274043676),\n",
       "  ('236204', 0.16444437595807393),\n",
       "  ('152245', 0.16490783060488787),\n",
       "  ('159469', 0.15156955084744547),\n",
       "  ('97884', 0.18071215646446037),\n",
       "  ('103007', 0.15280919245841593)],\n",
       " '143251': [('236204', 0.1538813579074872),\n",
       "  ('207972', 0.15942077292782364),\n",
       "  ('213017', 0.5127278436433929)],\n",
       " '293661': [('152245', 0.15397538589377446)],\n",
       " '219475': [('164985', 0.15990544830534503)],\n",
       " '5836': [('188911', 0.1530949317825135)],\n",
       " '266641': [('188911', 0.15934402512329887)],\n",
       " '103007': [('70115', 0.15280919245841593)],\n",
       " '36474': [('279052', 0.20877075777346507)],\n",
       " '120626': [('97884', 0.16687790248702447), ('195352', 0.48264982815722063)],\n",
       " '253672': [('285794', 0.15416625961580835), ('54440', 0.15509394136401233)]}"
      ]
     },
     "execution_count": 97,
     "metadata": {},
     "output_type": "execute_result"
    }
   ],
   "source": [
    "similarity_pair_spark_3.similarity_map"
   ]
  },
  {
   "cell_type": "code",
   "execution_count": 179,
   "id": "1de182cd",
   "metadata": {},
   "outputs": [],
   "source": [
    "sc.stop()"
   ]
  },
  {
   "cell_type": "markdown",
   "id": "11463d5e",
   "metadata": {},
   "source": [
    "# PROVA PYSPARK"
   ]
  },
  {
   "cell_type": "code",
   "execution_count": 2,
   "id": "26978d99",
   "metadata": {},
   "outputs": [],
   "source": [
    "import findspark\n",
    "findspark.init()\n",
    "import pyspark\n",
    "\n",
    "sc = pyspark.SparkContext(appName=\"Hei\")\n",
    "data = [(i, (1, 2)) for i in range(10)]\n",
    "myrdd = sc.parallelize(data)"
   ]
  },
  {
   "cell_type": "code",
   "execution_count": 3,
   "id": "570e3596",
   "metadata": {},
   "outputs": [],
   "source": [
    "data = [(i, [1, 1]) for i in range(10)] + [(i, [2, 2]) for i in range(10)] + [(i, [3, 3]) for i in range(10)]\n",
    "myrdd = sc.parallelize(data)"
   ]
  },
  {
   "cell_type": "code",
   "execution_count": 44,
   "id": "6208354c",
   "metadata": {},
   "outputs": [
    {
     "data": {
      "text/plain": [
       "[(0, [1, 1]),\n",
       " (1, [1, 1]),\n",
       " (2, [1, 1]),\n",
       " (3, [1, 1]),\n",
       " (4, [1, 1]),\n",
       " (5, [1, 1]),\n",
       " (6, [1, 1]),\n",
       " (7, [1, 1]),\n",
       " (8, [1, 1]),\n",
       " (9, [1, 1]),\n",
       " (0, [2, 2]),\n",
       " (1, [2, 2]),\n",
       " (2, [2, 2]),\n",
       " (3, [2, 2]),\n",
       " (4, [2, 2]),\n",
       " (5, [2, 2]),\n",
       " (6, [2, 2]),\n",
       " (7, [2, 2]),\n",
       " (8, [2, 2]),\n",
       " (9, [2, 2]),\n",
       " (0, [3, 3]),\n",
       " (1, [3, 3]),\n",
       " (2, [3, 3]),\n",
       " (3, [3, 3]),\n",
       " (4, [3, 3]),\n",
       " (5, [3, 3]),\n",
       " (6, [3, 3]),\n",
       " (7, [3, 3]),\n",
       " (8, [3, 3]),\n",
       " (9, [3, 3])]"
      ]
     },
     "execution_count": 44,
     "metadata": {},
     "output_type": "execute_result"
    }
   ],
   "source": [
    "data"
   ]
  },
  {
   "cell_type": "code",
   "execution_count": 45,
   "id": "26320c15",
   "metadata": {},
   "outputs": [],
   "source": [
    "m = myrdd.map(lambda x: x)"
   ]
  },
  {
   "cell_type": "code",
   "execution_count": 46,
   "id": "f39da6b1",
   "metadata": {},
   "outputs": [],
   "source": [
    "r = m.reduceByKey(lambda x,y: x + y)"
   ]
  },
  {
   "cell_type": "code",
   "execution_count": 38,
   "id": "a81fb648",
   "metadata": {
    "scrolled": true
   },
   "outputs": [
    {
     "data": {
      "text/plain": [
       "[(0, [1, 1, 2, 2, 3, 3]),\n",
       " (8, [1, 1, 2, 2, 3, 3]),\n",
       " (1, [1, 1, 2, 2, 3, 3]),\n",
       " (9, [1, 1, 2, 2, 3, 3]),\n",
       " (2, [1, 1, 2, 2, 3, 3]),\n",
       " (3, [1, 1, 2, 2, 3, 3]),\n",
       " (4, [1, 1, 2, 2, 3, 3]),\n",
       " (5, [1, 1, 2, 2, 3, 3]),\n",
       " (6, [1, 1, 2, 2, 3, 3]),\n",
       " (7, [1, 1, 2, 2, 3, 3])]"
      ]
     },
     "execution_count": 38,
     "metadata": {},
     "output_type": "execute_result"
    }
   ],
   "source": [
    "r.collect()"
   ]
  },
  {
   "cell_type": "code",
   "execution_count": null,
   "id": "0f33899f",
   "metadata": {},
   "outputs": [],
   "source": []
  },
  {
   "cell_type": "code",
   "execution_count": null,
   "id": "f560ef77",
   "metadata": {},
   "outputs": [],
   "source": []
  },
  {
   "cell_type": "code",
   "execution_count": 4,
   "id": "c5c4ac98",
   "metadata": {},
   "outputs": [
    {
     "name": "stdout",
     "output_type": "stream",
     "text": [
      "[(0, 1), (1, 1), (2, 1), (3, 1), (4, 1), (5, 1), (6, 1), (7, 1), (8, 1), (9, 1), (0, 2), (1, 2), (2, 2), (3, 2), (4, 2), (5, 2), (6, 2), (7, 2), (8, 2), (9, 2), (0, 3), (1, 3), (2, 3), (3, 3), (4, 3), (5, 3), (6, 3), (7, 3), (8, 3), (9, 3)]\n"
     ]
    }
   ],
   "source": [
    "data = [(i, 1) for i in range(10)] + [(i, 2) for i in range(10)] + [(i, 3) for i in range(10)]\n",
    "myrdd = sc.parallelize(data)\n",
    "\n",
    "\n",
    "\n",
    "m = myrdd.map(lambda x: x)\n",
    "print(m.collect())\n",
    "r = m.groupByKey()\n"
   ]
  },
  {
   "cell_type": "code",
   "execution_count": 64,
   "id": "611ae9d8",
   "metadata": {},
   "outputs": [
    {
     "data": {
      "text/plain": [
       "[(0, [1, 2, 3]),\n",
       " (8, [1, 2, 3]),\n",
       " (1, [1, 2, 3]),\n",
       " (9, [1, 2, 3]),\n",
       " (2, [1, 2, 3]),\n",
       " (3, [1, 2, 3]),\n",
       " (4, [1, 2, 3]),\n",
       " (5, [1, 2, 3]),\n",
       " (6, [1, 2, 3]),\n",
       " (7, [1, 2, 3])]"
      ]
     },
     "execution_count": 64,
     "metadata": {},
     "output_type": "execute_result"
    }
   ],
   "source": [
    "r.mapValues(list).collect()"
   ]
  },
  {
   "cell_type": "code",
   "execution_count": 30,
   "id": "7015a26c",
   "metadata": {},
   "outputs": [],
   "source": [
    "def prova(x):\n",
    "    v = []\n",
    "    for i in x:\n",
    "        if i >1:\n",
    "            v.append(i)\n",
    "    return tuple(v)\n",
    "\n",
    "# x is the vector for each key\n",
    "mm = r.mapValues(prova)"
   ]
  },
  {
   "cell_type": "code",
   "execution_count": 31,
   "id": "c162980f",
   "metadata": {},
   "outputs": [
    {
     "data": {
      "text/plain": [
       "[(0, (2, 3)),\n",
       " (8, (2, 3)),\n",
       " (1, (2, 3)),\n",
       " (9, (2, 3)),\n",
       " (2, (2, 3)),\n",
       " (3, (2, 3)),\n",
       " (4, (2, 3)),\n",
       " (5, (2, 3)),\n",
       " (6, (2, 3)),\n",
       " (7, (2, 3))]"
      ]
     },
     "execution_count": 31,
     "metadata": {},
     "output_type": "execute_result"
    }
   ],
   "source": [
    "mm.collect()"
   ]
  },
  {
   "cell_type": "code",
   "execution_count": 32,
   "id": "f0a8e83e",
   "metadata": {},
   "outputs": [],
   "source": [
    "v = mm.values()"
   ]
  },
  {
   "cell_type": "code",
   "execution_count": 33,
   "id": "91e538f9",
   "metadata": {
    "scrolled": false
   },
   "outputs": [
    {
     "data": {
      "text/plain": [
       "[(2, 3),\n",
       " (2, 3),\n",
       " (2, 3),\n",
       " (2, 3),\n",
       " (2, 3),\n",
       " (2, 3),\n",
       " (2, 3),\n",
       " (2, 3),\n",
       " (2, 3),\n",
       " (2, 3)]"
      ]
     },
     "execution_count": 33,
     "metadata": {},
     "output_type": "execute_result"
    }
   ],
   "source": [
    "v.collect()"
   ]
  },
  {
   "cell_type": "code",
   "execution_count": 34,
   "id": "dcd655d0",
   "metadata": {},
   "outputs": [],
   "source": [
    "rrr = v.distinct()"
   ]
  },
  {
   "cell_type": "code",
   "execution_count": 35,
   "id": "be4e7c6e",
   "metadata": {},
   "outputs": [
    {
     "data": {
      "text/plain": [
       "[(2, 3)]"
      ]
     },
     "execution_count": 35,
     "metadata": {},
     "output_type": "execute_result"
    }
   ],
   "source": [
    "rrr.collect()"
   ]
  },
  {
   "cell_type": "code",
   "execution_count": 56,
   "id": "aae8ea08",
   "metadata": {},
   "outputs": [],
   "source": [
    "# stop all\n",
    "sc.stop()"
   ]
  },
  {
   "cell_type": "code",
   "execution_count": 130,
   "id": "823f8154",
   "metadata": {},
   "outputs": [
    {
     "data": {
      "text/plain": [
       "(3, 2, 3, 1)"
      ]
     },
     "execution_count": 130,
     "metadata": {},
     "output_type": "execute_result"
    }
   ],
   "source": []
  },
  {
   "cell_type": "markdown",
   "id": "68974032",
   "metadata": {},
   "source": [
    "# --------------------------------------------------"
   ]
  },
  {
   "cell_type": "code",
   "execution_count": 275,
   "id": "33e4d829",
   "metadata": {},
   "outputs": [],
   "source": [
    "# compute mean and flat matrix\n",
    "mean_terms = similarity_pair_seq.tfidf_computation.mean(axis=0).A1"
   ]
  },
  {
   "cell_type": "code",
   "execution_count": 276,
   "id": "0629ab93",
   "metadata": {},
   "outputs": [],
   "source": [
    "# sort in decreasing order\n",
    "index_decresing_sort = np.argsort(mean_terms)[::-1]"
   ]
  },
  {
   "cell_type": "code",
   "execution_count": 277,
   "id": "80992219",
   "metadata": {},
   "outputs": [],
   "source": [
    "# order matrix by frequency\n",
    "ordered_tfidf = similarity_pair_seq.tfidf_computation[::, index_decresing_sort]"
   ]
  },
  {
   "cell_type": "code",
   "execution_count": 329,
   "id": "6932aa9a",
   "metadata": {},
   "outputs": [],
   "source": [
    "for i in range(ordered_tfidf.shape[0]):\n",
    "    ordered_tfidf[0, ::] = csr_matrix(ordered_tfidf[0, ::].toarray())\n",
    "    break"
   ]
  },
  {
   "cell_type": "code",
   "execution_count": 347,
   "id": "080cb549",
   "metadata": {},
   "outputs": [],
   "source": [
    "# vector d*\n",
    "d_star = ordered_tfidf.max(axis=0)"
   ]
  },
  {
   "cell_type": "code",
   "execution_count": 358,
   "id": "a7138df0",
   "metadata": {},
   "outputs": [
    {
     "data": {
      "text/plain": [
       "0.16662577404252926"
      ]
     },
     "execution_count": 358,
     "metadata": {},
     "output_type": "execute_result"
    }
   ],
   "source": [
    "ordered_tfidf[0, 0:100+1].dot(d_star[0, 0:100+1].transpose())[0, 0]"
   ]
  },
  {
   "cell_type": "code",
   "execution_count": 357,
   "id": "c573642a",
   "metadata": {},
   "outputs": [
    {
     "data": {
      "text/plain": [
       "scipy.sparse._csr.csr_matrix"
      ]
     },
     "execution_count": 357,
     "metadata": {},
     "output_type": "execute_result"
    }
   ],
   "source": [
    "d_star = d_star.tocsr(copy=False)\n",
    "type(d_star)"
   ]
  },
  {
   "cell_type": "code",
   "execution_count": 302,
   "id": "0159b26b",
   "metadata": {},
   "outputs": [],
   "source": [
    "n_terms = ordered_tfidf.shape[1]\n",
    "n_docs = ordered_tfidf.shape[0]"
   ]
  },
  {
   "cell_type": "code",
   "execution_count": null,
   "id": "99818e36",
   "metadata": {},
   "outputs": [],
   "source": [
    "boundary_docs = []\n",
    "for d in range(n_docs):\n",
    "    for t in range(n_terms):\n",
    "        partial_cosine = ordered_tfidf[d, 0:t+1].dot(d_star[0, 0:t+1].transpose())[0, 0]\n",
    "        if partial_cosine >= threshold:\n",
    "            boundary_docs.append(t-1)\n",
    "            # change doc\n",
    "            break\n",
    "            \n",
    "        "
   ]
  },
  {
   "cell_type": "code",
   "execution_count": 346,
   "id": "1b796632",
   "metadata": {},
   "outputs": [
    {
     "data": {
      "text/plain": [
       "scipy.sparse._coo.coo_matrix"
      ]
     },
     "execution_count": 346,
     "metadata": {},
     "output_type": "execute_result"
    }
   ],
   "source": []
  },
  {
   "cell_type": "code",
   "execution_count": 305,
   "id": "286f6e05",
   "metadata": {
    "scrolled": true
   },
   "outputs": [
    {
     "data": {
      "text/plain": [
       "0.8218331623316228"
      ]
     },
     "execution_count": 305,
     "metadata": {},
     "output_type": "execute_result"
    }
   ],
   "source": [
    "ordered_tfidf[1, 0:1000].dot(ordered_tfidf[1, 0:1000].transpose())[0, 0]"
   ]
  },
  {
   "cell_type": "code",
   "execution_count": 335,
   "id": "7c386a76",
   "metadata": {},
   "outputs": [
    {
     "data": {
      "text/plain": [
       "2733"
      ]
     },
     "execution_count": 335,
     "metadata": {},
     "output_type": "execute_result"
    }
   ],
   "source": [
    "ordered_tfidf[0, ::].shape[1]"
   ]
  },
  {
   "cell_type": "code",
   "execution_count": 330,
   "id": "015722de",
   "metadata": {
    "scrolled": false
   },
   "outputs": [
    {
     "data": {
      "text/plain": [
       "array([ 961,    8,  204,   17, 1395, 2610,   21, 2615,  531, 1286, 1211,\n",
       "          4,  635,  225,  255,    0,    6,  226,  191,  992, 1300,  309,\n",
       "        386,  423,  325, 2598,  837,  472,  640, 2608,  808,  702, 2609,\n",
       "        240, 1128,   25,    1, 2622,  705,  787, 2603,  703,  517,  266,\n",
       "        203, 2624,  741,  435, 2625,  452, 1341,   36,  993, 2627,  410,\n",
       "        552,    3,  832,   46,  420,  106, 1274, 2607,  144,  507, 2621,\n",
       "        688,  182,  114, 2599, 2602,  202, 1152,   40,  253, 2606,  373,\n",
       "         41, 2619, 2613,  500, 1446, 1082, 2601,  704,  766,  584,   51,\n",
       "       2618, 2617,    9,  709,   76, 1153,   32, 1297,  727,   12, 2628,\n",
       "       1445,  475,  641,  991,    2,   64, 2623, 1609, 2626, 2616, 2620,\n",
       "       1444,  697, 2614, 2612, 2611,  227, 2605, 2600, 2604, 1275])"
      ]
     },
     "execution_count": 330,
     "metadata": {},
     "output_type": "execute_result"
    }
   ],
   "source": [
    "ordered_tfidf[0, ::].indices"
   ]
  },
  {
   "cell_type": "code",
   "execution_count": 331,
   "id": "e671c61d",
   "metadata": {},
   "outputs": [
    {
     "data": {
      "text/plain": [
       "array([2713, 2710, 2698, 2691, 2689, 2683, 2681, 2672, 2653, 2641, 2543,\n",
       "       2534, 2523, 2522, 2514, 2491, 2490, 2489, 2480, 2477, 2393, 2305,\n",
       "       2287, 2260, 2234, 2222, 2170, 2159, 2116, 2031, 2019, 1948, 1939,\n",
       "       1918, 1758, 1737, 1731, 1681, 1605, 1603, 1550, 1547, 1508, 1506,\n",
       "       1496, 1481, 1464, 1452, 1440, 1430, 1426, 1335, 1328, 1303, 1269,\n",
       "       1253, 1241, 1217, 1187, 1154, 1153, 1102, 1073, 1043, 1041,  980,\n",
       "        979,  829,  820,  758,  750,  749,  740,  729,  728,  699,  686,\n",
       "        670,  622,  612,  536,  522,  521,  510,  458,  456,  419,  412,\n",
       "        410,  403,  402,  394,  388,  375,  307,  302,  300,  292,  273,\n",
       "        271,  265,  261,  236,  229,  224,  208,  177,  116,   69,   58,\n",
       "         50,   47,   45,   33,   29,   19,   18,   12,    6,    2])"
      ]
     },
     "execution_count": 331,
     "metadata": {},
     "output_type": "execute_result"
    }
   ],
   "source": [
    "similarity_pair_seq.tfidf_computation[0, ::].indices"
   ]
  },
  {
   "cell_type": "code",
   "execution_count": null,
   "id": "7454aa5b",
   "metadata": {},
   "outputs": [],
   "source": []
  },
  {
   "cell_type": "code",
   "execution_count": 272,
   "id": "53813a64",
   "metadata": {},
   "outputs": [],
   "source": [
    "l = []\n",
    "for i in range(10):\n",
    "    l.append(np.random.randint(low=0, high=10000, size=10))\n",
    "    l[-1] = l[-1] / np.sqrt(sum([i**2 for i in l[-1]]))\n",
    "    \n",
    "d_star = np.matrix(l).max(axis=0)"
   ]
  },
  {
   "cell_type": "code",
   "execution_count": 273,
   "id": "ce61c55e",
   "metadata": {},
   "outputs": [
    {
     "name": "stdout",
     "output_type": "stream",
     "text": [
      "[[1.47813969]]\n",
      "[[1.39534562]]\n",
      "[[1.44659433]]\n",
      "[[1.43452986]]\n",
      "[[1.51445932]]\n",
      "[[1.35510844]]\n",
      "[[1.47826521]]\n",
      "[[1.47416507]]\n",
      "[[1.33269231]]\n",
      "[[1.52399446]]\n"
     ]
    }
   ],
   "source": [
    "for l_ in l:\n",
    "    print(l_.dot(d_star.transpose()))"
   ]
  },
  {
   "cell_type": "code",
   "execution_count": null,
   "id": "4e6477ba",
   "metadata": {},
   "outputs": [],
   "source": []
  },
  {
   "cell_type": "code",
   "execution_count": null,
   "id": "76a78f2f",
   "metadata": {},
   "outputs": [],
   "source": []
  },
  {
   "cell_type": "code",
   "execution_count": null,
   "id": "6ae099af",
   "metadata": {},
   "outputs": [],
   "source": [
    "aa = []"
   ]
  },
  {
   "cell_type": "code",
   "execution_count": 431,
   "id": "37321f68",
   "metadata": {},
   "outputs": [],
   "source": [
    "aa = csr_matrix([1, 2, 3])"
   ]
  },
  {
   "cell_type": "code",
   "execution_count": 434,
   "id": "39defe91",
   "metadata": {},
   "outputs": [
    {
     "data": {
      "text/plain": [
       "(array([0, 0, 0]), array([1, 1, 1]))"
      ]
     },
     "execution_count": 434,
     "metadata": {},
     "output_type": "execute_result"
    }
   ],
   "source": [
    "aa.indices = np.array([1, 1, 1])\n",
    "aa.nonzero()"
   ]
  },
  {
   "cell_type": "code",
   "execution_count": null,
   "id": "2a093444",
   "metadata": {},
   "outputs": [],
   "source": []
  },
  {
   "cell_type": "code",
   "execution_count": 35,
   "id": "87917802",
   "metadata": {},
   "outputs": [],
   "source": [
    "o = similarity_pair_spark_3.ordered_tfidf_computation"
   ]
  },
  {
   "cell_type": "code",
   "execution_count": 36,
   "id": "077b0a74",
   "metadata": {},
   "outputs": [
    {
     "data": {
      "text/plain": [
       "<50x2733 sparse matrix of type '<class 'numpy.float64'>'\n",
       "\twith 5825 stored elements in Compressed Sparse Row format>"
      ]
     },
     "execution_count": 36,
     "metadata": {},
     "output_type": "execute_result"
    }
   ],
   "source": [
    "o"
   ]
  },
  {
   "cell_type": "code",
   "execution_count": 61,
   "id": "3488ffb0",
   "metadata": {},
   "outputs": [],
   "source": [
    "final = dok_matrix((0, o[0,::].shape[1]))\n",
    "for i in range(similarity_pair_spark_3.n_docs):\n",
    "    change = csr_matrix(o[i, ::].toarray())\n",
    "    final = vstack((final, change))\n",
    "final = final.tocsr()"
   ]
  },
  {
   "cell_type": "code",
   "execution_count": 88,
   "id": "091ea33b",
   "metadata": {},
   "outputs": [
    {
     "data": {
      "text/plain": [
       "array([   0,    1,    2,    3,    4,    6,    8,    9,   12,   17,   21,\n",
       "         25,   32,   36,   40,   41,   46,   51,   64,   76,  106,  114,\n",
       "        144,  182,  191,  202,  203,  204,  225,  226,  227,  240,  253,\n",
       "        255,  266,  309,  325,  373,  386,  410,  420,  423,  435,  452,\n",
       "        472,  475,  500,  507,  517,  531,  552,  584,  635,  640,  641,\n",
       "        688,  697,  702,  703,  704,  705,  709,  727,  741,  766,  787,\n",
       "        808,  832,  837,  961,  991,  992,  993, 1082, 1128, 1152, 1153,\n",
       "       1211, 1274, 1275, 1286, 1297, 1300, 1341, 1395, 1444, 1445, 1446,\n",
       "       1609, 2598, 2599, 2600, 2601, 2602, 2603, 2604, 2605, 2606, 2607,\n",
       "       2608, 2609, 2610, 2611, 2612, 2613, 2614, 2615, 2616, 2617, 2618,\n",
       "       2619, 2620, 2621, 2622, 2623, 2624, 2625, 2626, 2627, 2628])"
      ]
     },
     "execution_count": 88,
     "metadata": {},
     "output_type": "execute_result"
    }
   ],
   "source": [
    "final[0, ::].indices"
   ]
  },
  {
   "cell_type": "code",
   "execution_count": 65,
   "id": "67fb3451",
   "metadata": {
    "scrolled": true
   },
   "outputs": [
    {
     "data": {
      "text/plain": [
       "0.19188221057375543"
      ]
     },
     "execution_count": 65,
     "metadata": {},
     "output_type": "execute_result"
    }
   ],
   "source": [
    "final[2, ::].dot(final[4, ::].transpose())[0,0]"
   ]
  },
  {
   "cell_type": "code",
   "execution_count": 64,
   "id": "3f3203ed",
   "metadata": {
    "scrolled": true
   },
   "outputs": [
    {
     "data": {
      "text/plain": [
       "['4983',\n",
       " '5836',\n",
       " '7912',\n",
       " '18670',\n",
       " '19238',\n",
       " '33370',\n",
       " '36474',\n",
       " '54440',\n",
       " '70115',\n",
       " '70490',\n",
       " '72159',\n",
       " '79447',\n",
       " '87758',\n",
       " '92308',\n",
       " '92499',\n",
       " '97884',\n",
       " '102662',\n",
       " '103007',\n",
       " '104130',\n",
       " '106301',\n",
       " '116792',\n",
       " '118568',\n",
       " '120626',\n",
       " '123859',\n",
       " '140874',\n",
       " '143251',\n",
       " '152245',\n",
       " '153744',\n",
       " '159469',\n",
       " '164189',\n",
       " '164985',\n",
       " '169264',\n",
       " '175735',\n",
       " '188911',\n",
       " '195352',\n",
       " '202259',\n",
       " '207972',\n",
       " '213017',\n",
       " '219475',\n",
       " '226488',\n",
       " '236204',\n",
       " '238409',\n",
       " '243694',\n",
       " '253672',\n",
       " '263364',\n",
       " '266641',\n",
       " '275294',\n",
       " '279052',\n",
       " '285794',\n",
       " '293661']"
      ]
     },
     "execution_count": 64,
     "metadata": {},
     "output_type": "execute_result"
    }
   ],
   "source": [
    "similarity_pair_spark_3.keys"
   ]
  },
  {
   "cell_type": "code",
   "execution_count": 47,
   "id": "51944b8e",
   "metadata": {},
   "outputs": [
    {
     "data": {
      "text/plain": [
       "<1x2733 sparse matrix of type '<class 'numpy.float64'>'\n",
       "\twith 120 stored elements in Compressed Sparse Row format>"
      ]
     },
     "execution_count": 47,
     "metadata": {},
     "output_type": "execute_result"
    }
   ],
   "source": [
    "csr_matrix(o[0, ::].toarray())"
   ]
  },
  {
   "cell_type": "code",
   "execution_count": null,
   "id": "d7792be3",
   "metadata": {},
   "outputs": [],
   "source": [
    "dok_matrix((100, 100))\n",
    "vstack((m1, m2))"
   ]
  },
  {
   "cell_type": "code",
   "execution_count": null,
   "id": "31c573b9",
   "metadata": {},
   "outputs": [],
   "source": []
  },
  {
   "cell_type": "code",
   "execution_count": null,
   "id": "2e449329",
   "metadata": {},
   "outputs": [],
   "source": []
  },
  {
   "cell_type": "code",
   "execution_count": 108,
   "id": "788a31c6",
   "metadata": {},
   "outputs": [
    {
     "data": {
      "text/plain": [
       "array([   0,    1,    2,    3,    4,    6,    8,    9,   12,   17,   21,\n",
       "         25,   32,   36,   40,   41,   46,   51,   64,   76,  106,  114,\n",
       "        144,  182,  191,  202,  203,  204,  225,  226,  227,  240,  253,\n",
       "        255,  266,  309,  325,  373,  386,  410,  420,  423,  435,  452,\n",
       "        472,  475,  500,  507,  517,  531,  552,  584,  635,  640,  641,\n",
       "        688,  697,  702,  703,  704,  705,  709,  727,  741,  766,  787,\n",
       "        808,  832,  837,  961,  991,  992,  993, 1082, 1128, 1152, 1153,\n",
       "       1211, 1274, 1275, 1286, 1297, 1300, 1341, 1395, 1444, 1445, 1446,\n",
       "       1609, 2598, 2599, 2600, 2601, 2602, 2603, 2604, 2605, 2606, 2607,\n",
       "       2608, 2609, 2610, 2611, 2612, 2613, 2614, 2615, 2616, 2617, 2618,\n",
       "       2619, 2620, 2621, 2622, 2623, 2624, 2625, 2626, 2627, 2628])"
      ]
     },
     "execution_count": 108,
     "metadata": {},
     "output_type": "execute_result"
    }
   ],
   "source": [
    "i = final[0, ::].indices\n",
    "\n",
    "i"
   ]
  },
  {
   "cell_type": "code",
   "execution_count": 146,
   "id": "2d63a81a",
   "metadata": {},
   "outputs": [],
   "source": [
    "def binary_search(vector, f, t, val):\n",
    "    # nearest value\n",
    "    if f == t:\n",
    "        return f+1 if vector[f] < val else f\n",
    "    mid = (t+f)//2\n",
    "    if vector[mid] < val:\n",
    "        return find_pos(vector, mid+1, t, val)\n",
    "    elif vector[mid] > val:\n",
    "        return find_pos(vector, f, mid-1, val)\n",
    "    else:\n",
    "        return mid+1 if vector[mid] < val else mid"
   ]
  },
  {
   "cell_type": "code",
   "execution_count": 149,
   "id": "27cc7a1e",
   "metadata": {},
   "outputs": [
    {
     "name": "stdout",
     "output_type": "stream",
     "text": [
      "a\n",
      "a\n",
      "a\n",
      "a\n",
      "a\n"
     ]
    },
    {
     "data": {
      "text/plain": [
       "119"
      ]
     },
     "execution_count": 149,
     "metadata": {},
     "output_type": "execute_result"
    }
   ],
   "source": [
    "binary_search(i, 0, i.shape[0]-1, 2628)"
   ]
  },
  {
   "cell_type": "code",
   "execution_count": 150,
   "id": "d5b94aa2",
   "metadata": {},
   "outputs": [
    {
     "data": {
      "text/plain": [
       "2628"
      ]
     },
     "execution_count": 150,
     "metadata": {},
     "output_type": "execute_result"
    }
   ],
   "source": [
    "i[119]"
   ]
  },
  {
   "cell_type": "markdown",
   "id": "1514dabd",
   "metadata": {},
   "source": [
    "# --------------------------------------------------"
   ]
  }
 ],
 "metadata": {
  "kernelspec": {
   "display_name": "Python 3 (ipykernel)",
   "language": "python",
   "name": "python3"
  },
  "language_info": {
   "codemirror_mode": {
    "name": "ipython",
    "version": 3
   },
   "file_extension": ".py",
   "mimetype": "text/x-python",
   "name": "python",
   "nbconvert_exporter": "python",
   "pygments_lexer": "ipython3",
   "version": "3.8.5"
  }
 },
 "nbformat": 4,
 "nbformat_minor": 5
}
